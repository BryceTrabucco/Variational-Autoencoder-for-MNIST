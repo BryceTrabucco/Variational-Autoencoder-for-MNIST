{
  "nbformat": 4,
  "nbformat_minor": 0,
  "metadata": {
    "colab": {
      "name": "MNIST_VAE.ipynb",
      "version": "0.3.2",
      "provenance": [],
      "collapsed_sections": [],
      "include_colab_link": true
    },
    "language_info": {
      "codemirror_mode": {
        "name": "ipython",
        "version": 3
      },
      "file_extension": ".py",
      "mimetype": "text/x-python",
      "name": "python",
      "nbconvert_exporter": "python",
      "pygments_lexer": "ipython3",
      "version": "3.6.6"
    },
    "kernelspec": {
      "display_name": "Python 3",
      "language": "python",
      "name": "python3"
    },
    "accelerator": "GPU"
  },
  "cells": [
    {
      "cell_type": "markdown",
      "metadata": {
        "id": "view-in-github",
        "colab_type": "text"
      },
      "source": [
        "<a href=\"https://colab.research.google.com/github/BryceTrabucco/Variational-Autoencoder-for-MNIST/blob/master/MNIST_VAE.ipynb\" target=\"_parent\"><img src=\"https://colab.research.google.com/assets/colab-badge.svg\" alt=\"Open In Colab\"/></a>"
      ]
    },
    {
      "metadata": {
        "colab_type": "code",
        "id": "avuK_Sl9Sq8i",
        "outputId": "5ec22ff7-9518-4d70-b82d-31c0dc5ebd01",
        "colab": {
          "base_uri": "https://localhost:8080/",
          "height": 35
        }
      },
      "cell_type": "code",
      "source": [
        "\n",
        "import torch\n",
        "from torch import nn\n",
        "from torchvision import transforms\n",
        "from torch.autograd import Variable\n",
        "\n",
        "import torch.distributions as torch_dist\n",
        "import numpy as np\n",
        "import torch.nn.functional as F\n",
        "import torchvision\n",
        "import torch.optim as optim\n",
        "import matplotlib.pyplot as plt\n",
        "\n",
        "print(torch.__version__) "
      ],
      "execution_count": 0,
      "outputs": [
        {
          "output_type": "stream",
          "text": [
            "1.0.1.post2\n"
          ],
          "name": "stdout"
        }
      ]
    },
    {
      "metadata": {
        "colab_type": "code",
        "id": "8iOQlavRZ-a-",
        "colab": {}
      },
      "cell_type": "code",
      "source": [
        "batch_size = 32\n",
        "input_dim = 784\n",
        "h1_dim = 400\n",
        "h2_dim = 20               # bottleneck\n",
        "h3_dim = 400\n",
        "output_dim = 784"
      ],
      "execution_count": 0,
      "outputs": []
    },
    {
      "metadata": {
        "colab_type": "code",
        "id": "6npZF7yWyP6r",
        "outputId": "a0fcaa6a-e113-4944-d42a-802db09f3d0a",
        "colab": {
          "base_uri": "https://localhost:8080/",
          "height": 35
        }
      },
      "cell_type": "code",
      "source": [
        "transform = transforms.Compose([transforms.ToTensor()])\n",
        "mnist = torchvision.datasets.MNIST('/u/brycet/Downloads/data/processed',\n",
        "                                   download = True, transform = transform)\n",
        "dataloader = torch.utils.data.DataLoader(mnist, batch_size = batch_size,\n",
        "                                         shuffle = True, num_workers = 2)\n",
        "\n",
        "device = torch.device(\"cuda:0\" if torch.cuda.is_available() else \"cpu\")\n",
        "print(device)\n"
      ],
      "execution_count": 0,
      "outputs": [
        {
          "output_type": "stream",
          "text": [
            "cuda:0\n"
          ],
          "name": "stdout"
        }
      ]
    },
    {
      "metadata": {
        "colab_type": "code",
        "id": "tRRKqDO4WwoZ",
        "colab": {}
      },
      "cell_type": "code",
      "source": [
        "\n",
        "class VAE(torch.nn.Module):\n",
        "    \n",
        "    def __init__(self):\n",
        "        super(VAE, self).__init__()\n",
        "        \"\"\"\n",
        "        Layer Dimensions:\n",
        "        \n",
        "        Encoding layer 1  -> 784 input pixels, 400 output pixels\n",
        "        Encoding layer 2  -> 400 input pixels, 400 output pixels\n",
        "        \n",
        "        Mean layer        -> 400 input pixels, 20 output pixels\n",
        "        Stddev layer      -> 400 input pixels, 20 output pixels\n",
        "        \n",
        "        Decoder Layer 1   -> 20 input pixels,  400 output pixels\n",
        "        Decoder layer 2   -> 400 input pixels, 784 output pixels\n",
        "        \n",
        "        \"\"\"\n",
        "        self.enc_layer1 = torch.nn.Linear(input_dim, h1_dim)\n",
        "        self.enc_layer2 = torch.nn.Linear(h1_dim, h1_dim)\n",
        "        \n",
        "        self.enc_mean =   torch.nn.Linear(h1_dim, h2_dim) # mean\n",
        "        self.enc_stddev = torch.nn.Linear(h1_dim, h2_dim) # standard deviation\n",
        "        \n",
        "        self.dec_layer1 = torch.nn.Linear(h2_dim, h3_dim)\n",
        "        self.dec_layer2 = torch.nn.Linear(h3_dim, output_dim)\n",
        "    \n",
        "    def encode(self, x):\n",
        "        h1 = F.relu(self.enc_layer1(x))\n",
        "        return self.enc_layer2(h1)\n",
        "    \n",
        "    \n",
        "    def get_latent_variables(self, x):\n",
        "        \n",
        "        mu = self.enc_mean(x)\n",
        "        sigma = self.enc_stddev(x)\n",
        "        # \n",
        "        # \n",
        "        random_samples = sigma.data.new(sigma.size()).normal_(mean = 0, std = 1)\n",
        "        print(random_samples)\n",
        "        self.z_mean = mu\n",
        "        self.z_stddev = sigma\n",
        "        return mu + (sigma * random_samples)\n",
        "    \n",
        "    def decode(self, z):\n",
        "        h2 = F.relu(self.dec_layer1(z))\n",
        "        return torch.sigmoid(self.dec_layer2(h2))\n",
        "\n",
        "    \n",
        "    def forward(self, state):\n",
        "        h_encoding = self.encode(state)\n",
        "        z = self.get_latent_variables(h_encoding)\n",
        "        return self.decode(z)\n",
        "\n",
        "\n",
        "\n",
        "# kl_divergence = log(q) - log(p)\n",
        "def latent_loss(mean, stddev):\n",
        "    mean_sq = mean * mean\n",
        "    variance = stddev * stddev\n",
        "    return 0.5 * torch.mean(mean_sq + variance - torch.log(variance) - 1)"
      ],
      "execution_count": 0,
      "outputs": []
    },
    {
      "metadata": {
        "colab_type": "code",
        "id": "ZOHHEN9b53HP",
        "colab": {}
      },
      "cell_type": "code",
      "source": [
        "\n",
        "if __name__ == '__main__':\n",
        "    \n",
        "    vae = VAE()\n",
        "    vae.to(device)\n",
        "    optimizer = optim.Adam(vae.parameters(), lr = 1e-3)\n",
        "    l = None\n",
        "    mse_loss = torch.nn.MSELoss()\n",
        "    \n",
        "    for epoch in range(5):\n",
        "        vae.train()\n",
        "        \n",
        "        \n",
        "        for i, data in enumerate(dataloader, 0):\n",
        "            inputs, classes = data\n",
        "            inputs, classes = inputs.to(device), classes.to(device)\n",
        "            \n",
        "            # Reshape the input images:\n",
        "            inputs, classes = inputs.resize_(batch_size, input_dim), classes\n",
        "            optimizer.zero_grad()\n",
        "            \n",
        "            network_output = vae(inputs)\n",
        "            \n",
        "            ll = latent_loss(vae.z_mean, vae.z_stddev)\n",
        "            \n",
        "            decoder_loss = mse_loss(inputs, network_output)\n",
        "            combined_loss = decoder_loss + ll\n",
        "            combined_loss.backward()\n",
        "            optimizer.step()\n",
        "            \n",
        "            \n",
        "            print('Epoch {} : Combined Loss {}'.format(epoch, combined_loss))\n",
        "            \n",
        "# For the sake of computing time, I placed these lines outside of the \n",
        "# for loop.\n",
        "plt.title(\"Ground Truth: {}\".format(classes[0]))\n",
        "plt.imshow(vae(inputs).cpu().data[0].numpy().reshape(28, 28), cmap = 'gray')\n",
        "plt.show(block = True)\n",
        "            \n",
        "plt.title(\"Actual Digit:\")\n",
        "plt.imshow(inputs.cpu().data[0].numpy().reshape(28, 28), cmap = 'gray')\n",
        "plt.show(block = True)"
      ],
      "execution_count": 0,
      "outputs": []
    }
  ]
}